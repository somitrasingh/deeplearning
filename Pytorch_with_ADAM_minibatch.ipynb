{
  "nbformat": 4,
  "nbformat_minor": 0,
  "metadata": {
    "colab": {
      "provenance": [],
      "gpuType": "T4",
      "authorship_tag": "ABX9TyPX1S7S4XOMCUhYfPswizvZ",
      "include_colab_link": true
    },
    "kernelspec": {
      "name": "python3",
      "display_name": "Python 3"
    },
    "language_info": {
      "name": "python"
    },
    "accelerator": "GPU"
  },
  "cells": [
    {
      "cell_type": "markdown",
      "metadata": {
        "id": "view-in-github",
        "colab_type": "text"
      },
      "source": [
        "<a href=\"https://colab.research.google.com/github/somitrasingh/deeplearning/blob/main/Pytorch_with_ADAM_minibatch.ipynb\" target=\"_parent\"><img src=\"https://colab.research.google.com/assets/colab-badge.svg\" alt=\"Open In Colab\"/></a>"
      ]
    },
    {
      "cell_type": "code",
      "execution_count": null,
      "metadata": {
        "id": "L3HcUxudBGDY"
      },
      "outputs": [],
      "source": []
    },
    {
      "cell_type": "code",
      "execution_count": 22,
      "metadata": {
        "id": "fowUq3HaxwJp",
        "colab": {
          "base_uri": "https://localhost:8080/"
        },
        "outputId": "5cd17580-edae-4011-d4f6-bc148d56b24c"
      },
      "outputs": [
        {
          "output_type": "stream",
          "name": "stdout",
          "text": [
            "The autoreload extension is already loaded. To reload it, use:\n",
            "  %reload_ext autoreload\n"
          ]
        }
      ],
      "source": [
        "import numpy as np\n",
        "import copy\n",
        "import matplotlib.pyplot as plt\n",
        "import h5py\n",
        "import scipy\n",
        "from PIL import Image\n",
        "from scipy import ndimage\n",
        "import pandas as pd\n",
        "import kagglehub\n",
        "import os\n",
        "from sklearn.model_selection import train_test_split\n",
        "%matplotlib inline\n",
        "%load_ext autoreload\n",
        "%autoreload"
      ]
    },
    {
      "cell_type": "code",
      "source": [
        "path = kagglehub.dataset_download(\"gabrielsantello/cars-purchase-decision-dataset\")\n",
        "csv_path = os.path.join(path, 'car_data.csv')\n",
        "data = pd.read_csv(csv_path)"
      ],
      "metadata": {
        "colab": {
          "base_uri": "https://localhost:8080/"
        },
        "id": "XiwoDJpByfCp",
        "outputId": "24210397-3a25-4f7e-ec01-539e049f6979"
      },
      "execution_count": 23,
      "outputs": [
        {
          "output_type": "stream",
          "name": "stdout",
          "text": [
            "Warning: Looks like you're using an outdated `kagglehub` version (installed: 0.3.5), please consider upgrading to the latest version (0.3.6).\n"
          ]
        }
      ]
    },
    {
      "cell_type": "code",
      "source": [
        "from sklearn.preprocessing import StandardScaler\n"
      ],
      "metadata": {
        "id": "-SW_t5ddzOms"
      },
      "execution_count": 24,
      "outputs": []
    },
    {
      "cell_type": "code",
      "source": [
        "data['Gender'] = data['Gender'].apply(lambda x: 1 if x == 'Male' else 0)\n",
        "data = data.drop('User ID', axis=1)"
      ],
      "metadata": {
        "id": "nKxmGUsbzvnL"
      },
      "execution_count": 25,
      "outputs": []
    },
    {
      "cell_type": "code",
      "source": [
        "X = data[['Gender', 'Age', 'AnnualSalary']]  # Features\n",
        "Y = data['Purchased']  # Target"
      ],
      "metadata": {
        "id": "tNs3llYA0kmd"
      },
      "execution_count": 26,
      "outputs": []
    },
    {
      "cell_type": "code",
      "source": [
        "X_train, X_test, Y_train, Y_test = train_test_split(X, Y, test_size=0.2, random_state=42)\n",
        "X_test = X_test.to_numpy()\n",
        "X_train = X_train.to_numpy()\n",
        "Y_test = Y_test.to_numpy()\n",
        "Y_train = Y_train.to_numpy()\n",
        "Y_test = Y_test.reshape(Y_test.shape[0], 1)\n",
        "Y_train = Y_train.reshape(Y_train.shape[0], 1)"
      ],
      "metadata": {
        "id": "Yn5KD_J2ykhK"
      },
      "execution_count": 27,
      "outputs": []
    },
    {
      "cell_type": "code",
      "source": [
        "sc = StandardScaler()\n",
        "X_train = sc.fit_transform(X_train)\n",
        "X_test = sc.fit_transform(X_test)"
      ],
      "metadata": {
        "id": "6_FeCgjAywKK"
      },
      "execution_count": 28,
      "outputs": []
    },
    {
      "cell_type": "code",
      "source": [
        "print(X_train.shape)\n",
        "print(X_test.shape)\n",
        "print(Y_train.shape)\n",
        "print(Y_test.shape)"
      ],
      "metadata": {
        "id": "RXYylIgXzcEj",
        "colab": {
          "base_uri": "https://localhost:8080/"
        },
        "outputId": "224361c1-7f36-4e80-ad4e-26f6409fe3fc"
      },
      "execution_count": 29,
      "outputs": [
        {
          "output_type": "stream",
          "name": "stdout",
          "text": [
            "(800, 3)\n",
            "(200, 3)\n",
            "(800, 1)\n",
            "(200, 1)\n"
          ]
        }
      ]
    },
    {
      "cell_type": "code",
      "source": [
        "import torch\n",
        "import torch.nn as nn\n",
        "import torch.optim as optim\n",
        "device = torch.device(\"cuda\" if torch.cuda.is_available() else \"cpu\")\n",
        "print(f\"Using device: {device}\")"
      ],
      "metadata": {
        "colab": {
          "base_uri": "https://localhost:8080/"
        },
        "id": "BRTbzMPt038r",
        "outputId": "42ea0292-0bc5-42fc-8f74-d6bc43ac4758"
      },
      "execution_count": 30,
      "outputs": [
        {
          "output_type": "stream",
          "name": "stdout",
          "text": [
            "Using device: cuda\n"
          ]
        }
      ]
    },
    {
      "cell_type": "code",
      "source": [
        "X_train = torch.from_numpy(X_train.astype(np.float32))\n",
        "X_test = torch.from_numpy(X_test.astype(np.float32))\n",
        "Y_train = torch.from_numpy(Y_train.astype(np.float32))\n",
        "Y_test = torch.from_numpy(Y_test.astype(np.float32))"
      ],
      "metadata": {
        "id": "a0x25CUp9Rru"
      },
      "execution_count": 31,
      "outputs": []
    },
    {
      "cell_type": "code",
      "source": [
        "X_train = X_train.to(device)\n",
        "X_test = X_test.to(device)\n",
        "Y_train = Y_train.to(device)\n",
        "Y_test = Y_test.to(device)"
      ],
      "metadata": {
        "id": "mXCrYRAjzWUC"
      },
      "execution_count": 35,
      "outputs": []
    },
    {
      "cell_type": "code",
      "source": [
        "class TwoLayerNet(nn.Module):\n",
        "  def __init__(self, input_size, hidden_size, output_size):\n",
        "    super(TwoLayerNet, self).__init__()\n",
        "    self.linear = nn.Linear(input_size, hidden_size)\n",
        "    self.relu = nn.ReLU()\n",
        "    self.linear2 = nn.Linear(hidden_size, output_size)\n",
        "    self.sigmoid = nn.Sigmoid()\n",
        "\n",
        "  def forward(self, x):\n",
        "    out = self.linear(x)\n",
        "    out = self.relu(out)\n",
        "    out = self.linear2(out)\n",
        "    out = self.sigmoid(out)\n",
        "    return out\n"
      ],
      "metadata": {
        "id": "6o5N-zbz1DqH"
      },
      "execution_count": 36,
      "outputs": []
    },
    {
      "cell_type": "code",
      "source": [
        "hidden_size = 5\n",
        "model = TwoLayerNet(X_train.shape[1], hidden_size,  Y_train.shape[1]).to(device)\n",
        "criterion = nn.BCELoss()\n",
        "optimizer = optim.SGD(model.parameters(), lr=0.02)\n"
      ],
      "metadata": {
        "id": "C4TDgi7Bkkkr"
      },
      "execution_count": 37,
      "outputs": []
    },
    {
      "cell_type": "code",
      "source": [
        "num_epochs = 5000\n",
        "for epochs in range(num_epochs):\n",
        "  y_hat = model(X_train)\n",
        "  loss = criterion(y_hat, Y_train)\n",
        "  optimizer.zero_grad()\n",
        "  loss.backward()\n",
        "  optimizer.step()\n",
        "\n",
        "  if (epochs+1) % 500 == 0:\n",
        "    print(f\"Loss after {epochs+1} steps: {loss.item():.4f}\")\n"
      ],
      "metadata": {
        "colab": {
          "base_uri": "https://localhost:8080/"
        },
        "id": "VCOcGNyIknxC",
        "outputId": "72972197-db69-4f47-818b-5da9cfe4f051"
      },
      "execution_count": 38,
      "outputs": [
        {
          "output_type": "stream",
          "name": "stdout",
          "text": [
            "Loss after 500 steps: 0.4898\n",
            "Loss after 1000 steps: 0.3178\n",
            "Loss after 1500 steps: 0.2831\n",
            "Loss after 2000 steps: 0.2689\n",
            "Loss after 2500 steps: 0.2625\n",
            "Loss after 3000 steps: 0.2587\n",
            "Loss after 3500 steps: 0.2552\n",
            "Loss after 4000 steps: 0.2527\n",
            "Loss after 4500 steps: 0.2510\n",
            "Loss after 5000 steps: 0.2498\n"
          ]
        }
      ]
    },
    {
      "cell_type": "code",
      "source": [
        "with torch.no_grad():\n",
        "  y_hat = model(X_test)\n",
        "  y_predicted = y_hat.round()\n",
        "  acc = (y_predicted == Y_test).sum().item() / Y_test.size(0)\n",
        "  print(f\"Accuracy: {acc:.4f}\")"
      ],
      "metadata": {
        "colab": {
          "base_uri": "https://localhost:8080/"
        },
        "id": "REY-wfEulMQc",
        "outputId": "205bd441-cb36-4d65-911e-0413a48fdda9"
      },
      "execution_count": 17,
      "outputs": [
        {
          "output_type": "stream",
          "name": "stdout",
          "text": [
            "Accuracy: 0.8650\n"
          ]
        }
      ]
    },
    {
      "cell_type": "code",
      "source": [
        "from torch.utils.data import DataLoader, TensorDataset"
      ],
      "metadata": {
        "id": "SFyCtoORv4Ef"
      },
      "execution_count": 18,
      "outputs": []
    },
    {
      "cell_type": "markdown",
      "source": [
        "**Adam with mini batch**\n"
      ],
      "metadata": {
        "id": "_aTK6itZn3Qr"
      }
    },
    {
      "cell_type": "code",
      "source": [
        "train_dataset = TensorDataset(X_train.cpu(), Y_train.cpu())\n",
        "loader = DataLoader(train_dataset, batch_size=32, shuffle=True, num_workers=2, pin_memory=True)\n"
      ],
      "metadata": {
        "id": "0i7gZPDdn8kd"
      },
      "execution_count": 48,
      "outputs": []
    },
    {
      "cell_type": "code",
      "source": [
        "num_epochs = 10\n",
        "losses = []\n",
        "for epoch in range(num_epochs):\n",
        "  for batch_idx, (data, label) in enumerate(loader):\n",
        "    data = data.to(device)\n",
        "    label = label.to(device)\n",
        "    y_hat = model(data)\n",
        "    loss = criterion(y_hat, label)\n",
        "    optimizer.zero_grad()\n",
        "    loss.backward()\n",
        "    optimizer.step()\n",
        "    if (batch_idx + 1) % 12 == 0:\n",
        "            print(f\"Epoch [{epoch + 1}/{num_epochs}], Batch [{batch_idx + 1}/{len(loader)}], Loss: {loss.item():.4f}\")\n",
        "            losses.append(loss.item())\n"
      ],
      "metadata": {
        "colab": {
          "base_uri": "https://localhost:8080/"
        },
        "id": "z5Oy1rn-xf1s",
        "outputId": "9421d28a-76cb-4084-9e0f-7b7afac7901f"
      },
      "execution_count": 59,
      "outputs": [
        {
          "output_type": "stream",
          "name": "stdout",
          "text": [
            "Epoch [1/10], Batch [12/25], Loss: 0.1536\n",
            "Epoch [1/10], Batch [24/25], Loss: 0.1882\n",
            "Epoch [2/10], Batch [12/25], Loss: 0.2817\n",
            "Epoch [2/10], Batch [24/25], Loss: 0.2203\n",
            "Epoch [3/10], Batch [12/25], Loss: 0.4224\n",
            "Epoch [3/10], Batch [24/25], Loss: 0.4081\n",
            "Epoch [4/10], Batch [12/25], Loss: 0.1612\n",
            "Epoch [4/10], Batch [24/25], Loss: 0.4165\n",
            "Epoch [5/10], Batch [12/25], Loss: 0.4136\n",
            "Epoch [5/10], Batch [24/25], Loss: 0.2602\n",
            "Epoch [6/10], Batch [12/25], Loss: 0.1594\n",
            "Epoch [6/10], Batch [24/25], Loss: 0.3137\n",
            "Epoch [7/10], Batch [12/25], Loss: 0.2319\n",
            "Epoch [7/10], Batch [24/25], Loss: 0.1648\n",
            "Epoch [8/10], Batch [12/25], Loss: 0.1790\n",
            "Epoch [8/10], Batch [24/25], Loss: 0.1540\n",
            "Epoch [9/10], Batch [12/25], Loss: 0.3334\n",
            "Epoch [9/10], Batch [24/25], Loss: 0.1603\n",
            "Epoch [10/10], Batch [12/25], Loss: 0.1330\n",
            "Epoch [10/10], Batch [24/25], Loss: 0.1110\n"
          ]
        }
      ]
    },
    {
      "cell_type": "code",
      "source": [
        "print(type(losses))"
      ],
      "metadata": {
        "colab": {
          "base_uri": "https://localhost:8080/"
        },
        "id": "_zvwqXan5hU3",
        "outputId": "e7f1eaf1-2f3c-4a1f-880d-ae7f5a4841c9"
      },
      "execution_count": 60,
      "outputs": [
        {
          "output_type": "stream",
          "name": "stdout",
          "text": [
            "<class 'list'>\n"
          ]
        }
      ]
    },
    {
      "cell_type": "code",
      "source": [
        "plt.plot(losses)\n",
        "plt.xlabel('Epochs')\n",
        "plt.ylabel('Loss')\n",
        "plt.title('learning rate: ' + str(0.02))\n",
        "plt.show()"
      ],
      "metadata": {
        "colab": {
          "base_uri": "https://localhost:8080/",
          "height": 472
        },
        "id": "B0YQZ9WM0VAE",
        "outputId": "058c367d-a4fc-49a5-995f-98b37667de24"
      },
      "execution_count": 62,
      "outputs": [
        {
          "output_type": "display_data",
          "data": {
            "text/plain": [
              "<Figure size 640x480 with 1 Axes>"
            ],
            "image/png": "[encoded data removed]"
          },
          "metadata": {}
        }
      ]
    },
    {
      "cell_type": "code",
      "source": [
        "with torch.no_grad():\n",
        "  y_prediction = model(X_test)\n",
        "  y_prediction = y_prediction.round()\n",
        "  acc = (y_predicted == Y_test).sum().item() / Y_test.size(0)\n",
        "  print(f\"Accuracy: {acc:.4f}\")"
      ],
      "metadata": {
        "colab": {
          "base_uri": "https://localhost:8080/"
        },
        "id": "4U6yK6tD2m42",
        "outputId": "b177e290-5f07-4e3b-bb10-a68575d0e0b9"
      },
      "execution_count": 63,
      "outputs": [
        {
          "output_type": "stream",
          "name": "stdout",
          "text": [
            "Accuracy: 0.8650\n"
          ]
        }
      ]
    },
    {
      "cell_type": "code",
      "source": [],
      "metadata": {
        "id": "uMB8Y7RO6qGA"
      },
      "execution_count": null,
      "outputs": []
    }
  ]
}